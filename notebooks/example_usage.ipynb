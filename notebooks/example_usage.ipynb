{
 "cells": [
  {
   "cell_type": "code",
   "execution_count": null,
   "id": "ba0bf54d",
   "metadata": {
    "vscode": {
     "languageId": "plaintext"
    }
   },
   "outputs": [],
   "source": [
    "# Jupyter notebook for interactive exploration\n",
    "from pathlib import Path\n",
    "import sys\n",
    "sys.path.append('../src')\n",
    "\n",
    "from rag_system import SimpleRAGSystem\n",
    "\n",
    "# Initialize system\n",
    "rag = SimpleRAGSystem(\"example_collection\")\n",
    "\n",
    "# Add documents and search\n",
    "# (Add your code here)"
   ]
  }
 ],
 "metadata": {
  "language_info": {
   "name": "python"
  }
 },
 "nbformat": 4,
 "nbformat_minor": 5
}
